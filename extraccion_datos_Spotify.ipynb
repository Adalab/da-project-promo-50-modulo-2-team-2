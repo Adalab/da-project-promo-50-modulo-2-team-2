{
 "cells": [
  {
   "cell_type": "code",
   "execution_count": 1,
   "id": "f0607186",
   "metadata": {},
   "outputs": [
    {
     "name": "stdout",
     "output_type": "stream",
     "text": [
      "Collecting spotipy\n",
      "  Downloading spotipy-2.25.1-py3-none-any.whl.metadata (5.1 kB)\n",
      "Collecting redis>=3.5.3 (from spotipy)\n",
      "  Downloading redis-5.2.1-py3-none-any.whl.metadata (9.1 kB)\n",
      "Requirement already satisfied: requests>=2.25.0 in c:\\users\\garav\\anaconda3\\lib\\site-packages (from spotipy) (2.32.3)\n",
      "Requirement already satisfied: urllib3>=1.26.0 in c:\\users\\garav\\anaconda3\\lib\\site-packages (from spotipy) (2.2.3)\n",
      "Requirement already satisfied: charset-normalizer<4,>=2 in c:\\users\\garav\\anaconda3\\lib\\site-packages (from requests>=2.25.0->spotipy) (3.3.2)\n",
      "Requirement already satisfied: idna<4,>=2.5 in c:\\users\\garav\\anaconda3\\lib\\site-packages (from requests>=2.25.0->spotipy) (3.7)\n",
      "Requirement already satisfied: certifi>=2017.4.17 in c:\\users\\garav\\anaconda3\\lib\\site-packages (from requests>=2.25.0->spotipy) (2025.1.31)\n",
      "Downloading spotipy-2.25.1-py3-none-any.whl (31 kB)\n",
      "Downloading redis-5.2.1-py3-none-any.whl (261 kB)\n",
      "Installing collected packages: redis, spotipy\n",
      "Successfully installed redis-5.2.1 spotipy-2.25.1\n"
     ]
    }
   ],
   "source": [
    "!pip install spotipy"
   ]
  },
  {
   "cell_type": "code",
   "execution_count": 2,
   "id": "b972398b",
   "metadata": {},
   "outputs": [],
   "source": [
    "import spotipy"
   ]
  },
  {
   "cell_type": "code",
   "execution_count": 3,
   "id": "3e54b625",
   "metadata": {},
   "outputs": [],
   "source": [
    "from spotipy.oauth2 import SpotifyClientCredentials"
   ]
  },
  {
   "cell_type": "code",
   "execution_count": 20,
   "id": "1d110d33",
   "metadata": {},
   "outputs": [],
   "source": [
    "import pandas as pd"
   ]
  },
  {
   "cell_type": "code",
   "execution_count": 4,
   "id": "ef4c73b9",
   "metadata": {},
   "outputs": [],
   "source": [
    "CLIENT_ID = '2825d75c627940f891b038bcb7529504'\n",
    "CLIENT_SECRET = '1e3a7f2daa2d4b5d93059cf3143504b2'\n",
    "\n",
    "# Autenticación\n",
    "auth_manager = SpotifyClientCredentials(client_id=CLIENT_ID, client_secret=CLIENT_SECRET)\n",
    "sp = spotipy.Spotify(auth_manager=auth_manager)"
   ]
  },
  {
   "cell_type": "code",
   "execution_count": 5,
   "id": "d6e80bbf",
   "metadata": {},
   "outputs": [],
   "source": [
    "datos = sp.search(q=\"genre:rock year:2020\", type='track', limit=50, offset=0)\n",
    "data_track_album = sp.search(q=\"genre:rock year:2020\", type='track,album', limit=50, offset=0)"
   ]
  },
  {
   "cell_type": "code",
   "execution_count": 106,
   "id": "d46b7984",
   "metadata": {},
   "outputs": [],
   "source": [
    "# Definimos géneros y años\n",
    "\n",
    "generos = ['rock', 'indie', 'hip hop', 'pop']\n",
    "anios = range(2000,2006)\n",
    "# Lista donde vamos a guardar los datos\n",
    "datos = []\n",
    "\n",
    "\n",
    "def extraccion_datos():\n",
    "    # Buscar canciones\n",
    "    for genero in generos:\n",
    "        for anio in anios:\n",
    "            busqueda = f'genre:\"{genero}\" year:{anio}'\n",
    "            resultados = sp.search(q=busqueda, type='track', limit=50)\n",
    "            for cancion in resultados['tracks']['items']:\n",
    "                datos.append({\n",
    "                    'Artista': cancion['artists'][0]['name'],\n",
    "                    'Género': genero,\n",
    "                    'Tipo': 'canción',\n",
    "                    'Nombre': cancion['name'],\n",
    "                    'Año de lanzamiento': cancion['album']['release_date'][:4],\n",
    "                    'ID': cancion['id']\n",
    "                    })\n",
    "    # Buscar álbumes\n",
    "    for genero in generos:\n",
    "        for anio in anios:\n",
    "            busqueda = f'genre:\"{genero}\" year:{anio}'\n",
    "            resultados = sp.search(q=busqueda, type='album', limit=50)\n",
    "            for album in resultados['albums']['items']:\n",
    "                datos.append({\n",
    "                    'Artista': album['artists'][0]['name'],\n",
    "                    'Género': genero,\n",
    "                    'Tipo': 'álbum',\n",
    "                    'Nombre': album['name'],\n",
    "                    'Año de lanzamiento': album['release_date'][:4],\n",
    "                    'ID': album['id']\n",
    "                })\n"
   ]
  },
  {
   "cell_type": "code",
   "execution_count": 107,
   "id": "ba276611",
   "metadata": {},
   "outputs": [],
   "source": [
    "extraccion_datos()"
   ]
  },
  {
   "cell_type": "code",
   "execution_count": 108,
   "id": "0d62c7ec",
   "metadata": {},
   "outputs": [
    {
     "name": "stdout",
     "output_type": "stream",
     "text": [
      ":white_check_mark: ¡Datos guardados en datos_spotify.csv!\n"
     ]
    }
   ],
   "source": [
    "df = pd.DataFrame(datos)\n",
    "df.to_csv('datos_spotify.csv', index=False)\n",
    "print(\":white_check_mark: ¡Datos guardados en datos_spotify.csv!\")"
   ]
  },
  {
   "cell_type": "code",
   "execution_count": 109,
   "id": "778bcc32",
   "metadata": {},
   "outputs": [
    {
     "data": {
      "text/html": [
       "<div>\n",
       "<style scoped>\n",
       "    .dataframe tbody tr th:only-of-type {\n",
       "        vertical-align: middle;\n",
       "    }\n",
       "\n",
       "    .dataframe tbody tr th {\n",
       "        vertical-align: top;\n",
       "    }\n",
       "\n",
       "    .dataframe thead th {\n",
       "        text-align: right;\n",
       "    }\n",
       "</style>\n",
       "<table border=\"1\" class=\"dataframe\">\n",
       "  <thead>\n",
       "    <tr style=\"text-align: right;\">\n",
       "      <th></th>\n",
       "      <th>Artista</th>\n",
       "      <th>Género</th>\n",
       "      <th>Tipo</th>\n",
       "      <th>Nombre</th>\n",
       "      <th>Año de lanzamiento</th>\n",
       "      <th>ID</th>\n",
       "    </tr>\n",
       "  </thead>\n",
       "  <tbody>\n",
       "    <tr>\n",
       "      <th>0</th>\n",
       "      <td>La Oreja de Van Gogh</td>\n",
       "      <td>rock</td>\n",
       "      <td>canción</td>\n",
       "      <td>La Playa</td>\n",
       "      <td>2000</td>\n",
       "      <td>2DNyZP4Py6f4zMASLBnIu6</td>\n",
       "    </tr>\n",
       "    <tr>\n",
       "      <th>1</th>\n",
       "      <td>Amaral</td>\n",
       "      <td>rock</td>\n",
       "      <td>canción</td>\n",
       "      <td>Cómo hablar</td>\n",
       "      <td>2000</td>\n",
       "      <td>3DYm7Lp7Fc3xf6WSCq5ntE</td>\n",
       "    </tr>\n",
       "    <tr>\n",
       "      <th>2</th>\n",
       "      <td>Linkin Park</td>\n",
       "      <td>rock</td>\n",
       "      <td>canción</td>\n",
       "      <td>In the End</td>\n",
       "      <td>2000</td>\n",
       "      <td>60a0Rd6pjrkxjPbaKzXjfq</td>\n",
       "    </tr>\n",
       "    <tr>\n",
       "      <th>3</th>\n",
       "      <td>La Oreja de Van Gogh</td>\n",
       "      <td>rock</td>\n",
       "      <td>canción</td>\n",
       "      <td>Cuídate</td>\n",
       "      <td>2000</td>\n",
       "      <td>7gqIqyeCaV2xNtfZWxEphD</td>\n",
       "    </tr>\n",
       "    <tr>\n",
       "      <th>4</th>\n",
       "      <td>Mägo de Oz</td>\n",
       "      <td>rock</td>\n",
       "      <td>canción</td>\n",
       "      <td>Fiesta Pagana</td>\n",
       "      <td>2000</td>\n",
       "      <td>02dphTJYUQ9pmdNC52iyOz</td>\n",
       "    </tr>\n",
       "    <tr>\n",
       "      <th>...</th>\n",
       "      <td>...</td>\n",
       "      <td>...</td>\n",
       "      <td>...</td>\n",
       "      <td>...</td>\n",
       "      <td>...</td>\n",
       "      <td>...</td>\n",
       "    </tr>\n",
       "    <tr>\n",
       "      <th>1196</th>\n",
       "      <td>Aventura</td>\n",
       "      <td>pop</td>\n",
       "      <td>canción</td>\n",
       "      <td>La Boda</td>\n",
       "      <td>2005</td>\n",
       "      <td>2jQeX1fMZo5z82w3BviN5x</td>\n",
       "    </tr>\n",
       "    <tr>\n",
       "      <th>1197</th>\n",
       "      <td>The Pussycat Dolls</td>\n",
       "      <td>pop</td>\n",
       "      <td>canción</td>\n",
       "      <td>Don't Cha</td>\n",
       "      <td>2005</td>\n",
       "      <td>0BxfFnk0YzONqvmrkO0QrB</td>\n",
       "    </tr>\n",
       "    <tr>\n",
       "      <th>1198</th>\n",
       "      <td>El Canto Del Loco</td>\n",
       "      <td>pop</td>\n",
       "      <td>canción</td>\n",
       "      <td>Tal Como Eres</td>\n",
       "      <td>2005</td>\n",
       "      <td>0HQ6KHOBtpGdV7c40wwNSA</td>\n",
       "    </tr>\n",
       "    <tr>\n",
       "      <th>1199</th>\n",
       "      <td>Estopa</td>\n",
       "      <td>pop</td>\n",
       "      <td>canción</td>\n",
       "      <td>Monstruos</td>\n",
       "      <td>2005</td>\n",
       "      <td>0gPA2Ksl3qeLYQWnyBmSEa</td>\n",
       "    </tr>\n",
       "    <tr>\n",
       "      <th>1200</th>\n",
       "      <td>J.J. Tindall</td>\n",
       "      <td>rock</td>\n",
       "      <td>álbum</td>\n",
       "      <td>Songs in the Rock Genre</td>\n",
       "      <td>2002</td>\n",
       "      <td>5pHBlNAoMfmancB7hdE0vi</td>\n",
       "    </tr>\n",
       "  </tbody>\n",
       "</table>\n",
       "<p>1201 rows × 6 columns</p>\n",
       "</div>"
      ],
      "text/plain": [
       "                   Artista Género     Tipo                   Nombre  \\\n",
       "0     La Oreja de Van Gogh   rock  canción                 La Playa   \n",
       "1                   Amaral   rock  canción              Cómo hablar   \n",
       "2              Linkin Park   rock  canción               In the End   \n",
       "3     La Oreja de Van Gogh   rock  canción                  Cuídate   \n",
       "4               Mägo de Oz   rock  canción            Fiesta Pagana   \n",
       "...                    ...    ...      ...                      ...   \n",
       "1196              Aventura    pop  canción                  La Boda   \n",
       "1197    The Pussycat Dolls    pop  canción                Don't Cha   \n",
       "1198     El Canto Del Loco    pop  canción            Tal Como Eres   \n",
       "1199                Estopa    pop  canción                Monstruos   \n",
       "1200          J.J. Tindall   rock    álbum  Songs in the Rock Genre   \n",
       "\n",
       "     Año de lanzamiento                      ID  \n",
       "0                  2000  2DNyZP4Py6f4zMASLBnIu6  \n",
       "1                  2000  3DYm7Lp7Fc3xf6WSCq5ntE  \n",
       "2                  2000  60a0Rd6pjrkxjPbaKzXjfq  \n",
       "3                  2000  7gqIqyeCaV2xNtfZWxEphD  \n",
       "4                  2000  02dphTJYUQ9pmdNC52iyOz  \n",
       "...                 ...                     ...  \n",
       "1196               2005  2jQeX1fMZo5z82w3BviN5x  \n",
       "1197               2005  0BxfFnk0YzONqvmrkO0QrB  \n",
       "1198               2005  0HQ6KHOBtpGdV7c40wwNSA  \n",
       "1199               2005  0gPA2Ksl3qeLYQWnyBmSEa  \n",
       "1200               2002  5pHBlNAoMfmancB7hdE0vi  \n",
       "\n",
       "[1201 rows x 6 columns]"
      ]
     },
     "execution_count": 109,
     "metadata": {},
     "output_type": "execute_result"
    }
   ],
   "source": [
    "df"
   ]
  },
  {
   "cell_type": "code",
   "execution_count": null,
   "id": "b85f242f",
   "metadata": {},
   "outputs": [],
   "source": []
  }
 ],
 "metadata": {
  "kernelspec": {
   "display_name": "base",
   "language": "python",
   "name": "python3"
  },
  "language_info": {
   "codemirror_mode": {
    "name": "ipython",
    "version": 3
   },
   "file_extension": ".py",
   "mimetype": "text/x-python",
   "name": "python",
   "nbconvert_exporter": "python",
   "pygments_lexer": "ipython3",
   "version": "3.12.7"
  }
 },
 "nbformat": 4,
 "nbformat_minor": 5
}
