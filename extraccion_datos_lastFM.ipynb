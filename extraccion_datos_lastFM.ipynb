{
 "cells": [
  {
   "cell_type": "code",
   "execution_count": 2,
   "id": "ce05054b",
   "metadata": {},
   "outputs": [
    {
     "name": "stdout",
     "output_type": "stream",
     "text": [
      "Collecting mysql-connector\n",
      "  Using cached mysql-connector-2.2.9.tar.gz (11.9 MB)\n",
      "  Preparing metadata (setup.py) ... \u001b[?25ldone\n",
      "\u001b[?25hBuilding wheels for collected packages: mysql-connector\n",
      "  Building wheel for mysql-connector (setup.py) ... \u001b[?25ldone\n",
      "\u001b[?25h  Created wheel for mysql-connector: filename=mysql_connector-2.2.9-cp312-cp312-macosx_10_15_x86_64.whl size=247957 sha256=140c9a16d62d129736a1c85a7c78cea0fb29ea2e56b5b24dd8f971d6e723efef\n",
      "  Stored in directory: /Users/martamecalopez/Library/Caches/pip/wheels/03/17/fa/d7604c72dd3dd6d3eb3d249abf36cc532c9a9b4354b8f1bc4f\n",
      "Successfully built mysql-connector\n",
      "Installing collected packages: mysql-connector\n",
      "Successfully installed mysql-connector-2.2.9\n"
     ]
    }
   ],
   "source": [
    "!pip install mysql-connector "
   ]
  },
  {
   "cell_type": "code",
   "execution_count": 4,
   "id": "a8ffcf15",
   "metadata": {},
   "outputs": [
    {
     "name": "stdout",
     "output_type": "stream",
     "text": [
      "Requirement already satisfied: requests in /opt/anaconda3/lib/python3.12/site-packages (2.32.3)\n",
      "Requirement already satisfied: charset-normalizer<4,>=2 in /opt/anaconda3/lib/python3.12/site-packages (from requests) (3.4.1)\n",
      "Requirement already satisfied: idna<4,>=2.5 in /opt/anaconda3/lib/python3.12/site-packages (from requests) (3.10)\n",
      "Requirement already satisfied: urllib3<3,>=1.21.1 in /opt/anaconda3/lib/python3.12/site-packages (from requests) (2.4.0)\n",
      "Requirement already satisfied: certifi>=2017.4.17 in /opt/anaconda3/lib/python3.12/site-packages (from requests) (2025.1.31)\n",
      "Requirement already satisfied: numpy in /opt/anaconda3/lib/python3.12/site-packages (1.26.4)\n",
      "Requirement already satisfied: spotipy in /opt/anaconda3/lib/python3.12/site-packages (2.25.1)\n",
      "Requirement already satisfied: redis>=3.5.3 in /opt/anaconda3/lib/python3.12/site-packages (from spotipy) (5.2.1)\n",
      "Requirement already satisfied: requests>=2.25.0 in /opt/anaconda3/lib/python3.12/site-packages (from spotipy) (2.32.3)\n",
      "Requirement already satisfied: urllib3>=1.26.0 in /opt/anaconda3/lib/python3.12/site-packages (from spotipy) (2.4.0)\n",
      "Requirement already satisfied: charset-normalizer<4,>=2 in /opt/anaconda3/lib/python3.12/site-packages (from requests>=2.25.0->spotipy) (3.4.1)\n",
      "Requirement already satisfied: idna<4,>=2.5 in /opt/anaconda3/lib/python3.12/site-packages (from requests>=2.25.0->spotipy) (3.10)\n",
      "Requirement already satisfied: certifi>=2017.4.17 in /opt/anaconda3/lib/python3.12/site-packages (from requests>=2.25.0->spotipy) (2025.1.31)\n"
     ]
    }
   ],
   "source": [
    "!pip install requests\n",
    "!pip install numpy\n",
    "!pip install spotipy"
   ]
  },
  {
   "cell_type": "code",
   "execution_count": 6,
   "id": "a5ae2343",
   "metadata": {},
   "outputs": [],
   "source": [
    "import mysql.connector\n",
    "from mysql.connector import errorcode\n",
    "\n",
    "import requests\n",
    "import pandas as pd\n",
    "import spotipy\n",
    "from spotipy.oauth2 import SpotifyClientCredentials"
   ]
  },
  {
   "cell_type": "code",
   "execution_count": 7,
   "id": "344ead16",
   "metadata": {},
   "outputs": [],
   "source": [
    "API_KEY = '9b65cdc3fd65f2de3603bcc32acabc9c'  # Reemplaza con tu API Key válida de Last.fm.\n",
    "BASE_URL = 'http://ws.audioscrobbler.com/2.0/' # esta base siempre es la misma."
   ]
  },
  {
   "cell_type": "code",
   "execution_count": null,
   "id": "f709287e",
   "metadata": {},
   "outputs": [
    {
     "data": {
      "text/plain": [
       "{'artist': {'name': 'Name',\n",
       "  'mbid': 'c0ef661a-571b-44fd-996c-a4be28afb86e',\n",
       "  'url': 'https://www.last.fm/music/Name',\n",
       "  'image': [{'#text': 'https://lastfm.freetls.fastly.net/i/u/34s/2a96cbd8b46e442fc41c2b86b821562f.png',\n",
       "    'size': 'small'},\n",
       "   {'#text': 'https://lastfm.freetls.fastly.net/i/u/64s/2a96cbd8b46e442fc41c2b86b821562f.png',\n",
       "    'size': 'medium'},\n",
       "   {'#text': 'https://lastfm.freetls.fastly.net/i/u/174s/2a96cbd8b46e442fc41c2b86b821562f.png',\n",
       "    'size': 'large'},\n",
       "   {'#text': 'https://lastfm.freetls.fastly.net/i/u/300x300/2a96cbd8b46e442fc41c2b86b821562f.png',\n",
       "    'size': 'extralarge'},\n",
       "   {'#text': 'https://lastfm.freetls.fastly.net/i/u/300x300/2a96cbd8b46e442fc41c2b86b821562f.png',\n",
       "    'size': 'mega'},\n",
       "   {'#text': 'https://lastfm.freetls.fastly.net/i/u/300x300/2a96cbd8b46e442fc41c2b86b821562f.png',\n",
       "    'size': ''}],\n",
       "  'streamable': '0',\n",
       "  'ontour': '0',\n",
       "  'stats': {'listeners': '9428', 'playcount': '85164'},\n",
       "  'similar': {'artist': [{'name': 'The Crinn',\n",
       "     'url': 'https://www.last.fm/music/The+Crinn',\n",
       "     'image': [{'#text': 'https://lastfm.freetls.fastly.net/i/u/34s/2a96cbd8b46e442fc41c2b86b821562f.png',\n",
       "       'size': 'small'},\n",
       "      {'#text': 'https://lastfm.freetls.fastly.net/i/u/64s/2a96cbd8b46e442fc41c2b86b821562f.png',\n",
       "       'size': 'medium'},\n",
       "      {'#text': 'https://lastfm.freetls.fastly.net/i/u/174s/2a96cbd8b46e442fc41c2b86b821562f.png',\n",
       "       'size': 'large'},\n",
       "      {'#text': 'https://lastfm.freetls.fastly.net/i/u/300x300/2a96cbd8b46e442fc41c2b86b821562f.png',\n",
       "       'size': 'extralarge'},\n",
       "      {'#text': 'https://lastfm.freetls.fastly.net/i/u/300x300/2a96cbd8b46e442fc41c2b86b821562f.png',\n",
       "       'size': 'mega'},\n",
       "      {'#text': 'https://lastfm.freetls.fastly.net/i/u/300x300/2a96cbd8b46e442fc41c2b86b821562f.png',\n",
       "       'size': ''}]},\n",
       "    {'name': 'Shoemaker Levy 9',\n",
       "     'url': 'https://www.last.fm/music/Shoemaker+Levy+9',\n",
       "     'image': [{'#text': 'https://lastfm.freetls.fastly.net/i/u/34s/2a96cbd8b46e442fc41c2b86b821562f.png',\n",
       "       'size': 'small'},\n",
       "      {'#text': 'https://lastfm.freetls.fastly.net/i/u/64s/2a96cbd8b46e442fc41c2b86b821562f.png',\n",
       "       'size': 'medium'},\n",
       "      {'#text': 'https://lastfm.freetls.fastly.net/i/u/174s/2a96cbd8b46e442fc41c2b86b821562f.png',\n",
       "       'size': 'large'},\n",
       "      {'#text': 'https://lastfm.freetls.fastly.net/i/u/300x300/2a96cbd8b46e442fc41c2b86b821562f.png',\n",
       "       'size': 'extralarge'},\n",
       "      {'#text': 'https://lastfm.freetls.fastly.net/i/u/300x300/2a96cbd8b46e442fc41c2b86b821562f.png',\n",
       "       'size': 'mega'},\n",
       "      {'#text': 'https://lastfm.freetls.fastly.net/i/u/300x300/2a96cbd8b46e442fc41c2b86b821562f.png',\n",
       "       'size': ''}]},\n",
       "    {'name': 'Harlots',\n",
       "     'url': 'https://www.last.fm/music/Harlots',\n",
       "     'image': [{'#text': 'https://lastfm.freetls.fastly.net/i/u/34s/2a96cbd8b46e442fc41c2b86b821562f.png',\n",
       "       'size': 'small'},\n",
       "      {'#text': 'https://lastfm.freetls.fastly.net/i/u/64s/2a96cbd8b46e442fc41c2b86b821562f.png',\n",
       "       'size': 'medium'},\n",
       "      {'#text': 'https://lastfm.freetls.fastly.net/i/u/174s/2a96cbd8b46e442fc41c2b86b821562f.png',\n",
       "       'size': 'large'},\n",
       "      {'#text': 'https://lastfm.freetls.fastly.net/i/u/300x300/2a96cbd8b46e442fc41c2b86b821562f.png',\n",
       "       'size': 'extralarge'},\n",
       "      {'#text': 'https://lastfm.freetls.fastly.net/i/u/300x300/2a96cbd8b46e442fc41c2b86b821562f.png',\n",
       "       'size': 'mega'},\n",
       "      {'#text': 'https://lastfm.freetls.fastly.net/i/u/300x300/2a96cbd8b46e442fc41c2b86b821562f.png',\n",
       "       'size': ''}]},\n",
       "    {'name': '+\\\\-',\n",
       "     'url': 'https://www.last.fm/music/%252B%5C-',\n",
       "     'image': [{'#text': 'https://lastfm.freetls.fastly.net/i/u/34s/2a96cbd8b46e442fc41c2b86b821562f.png',\n",
       "       'size': 'small'},\n",
       "      {'#text': 'https://lastfm.freetls.fastly.net/i/u/64s/2a96cbd8b46e442fc41c2b86b821562f.png',\n",
       "       'size': 'medium'},\n",
       "      {'#text': 'https://lastfm.freetls.fastly.net/i/u/174s/2a96cbd8b46e442fc41c2b86b821562f.png',\n",
       "       'size': 'large'},\n",
       "      {'#text': 'https://lastfm.freetls.fastly.net/i/u/300x300/2a96cbd8b46e442fc41c2b86b821562f.png',\n",
       "       'size': 'extralarge'},\n",
       "      {'#text': 'https://lastfm.freetls.fastly.net/i/u/300x300/2a96cbd8b46e442fc41c2b86b821562f.png',\n",
       "       'size': 'mega'},\n",
       "      {'#text': 'https://lastfm.freetls.fastly.net/i/u/300x300/2a96cbd8b46e442fc41c2b86b821562f.png',\n",
       "       'size': ''}]},\n",
       "    {'name': 'Follow the White Rabbit',\n",
       "     'url': 'https://www.last.fm/music/Follow+the+White+Rabbit',\n",
       "     'image': [{'#text': 'https://lastfm.freetls.fastly.net/i/u/34s/2a96cbd8b46e442fc41c2b86b821562f.png',\n",
       "       'size': 'small'},\n",
       "      {'#text': 'https://lastfm.freetls.fastly.net/i/u/64s/2a96cbd8b46e442fc41c2b86b821562f.png',\n",
       "       'size': 'medium'},\n",
       "      {'#text': 'https://lastfm.freetls.fastly.net/i/u/174s/2a96cbd8b46e442fc41c2b86b821562f.png',\n",
       "       'size': 'large'},\n",
       "      {'#text': 'https://lastfm.freetls.fastly.net/i/u/300x300/2a96cbd8b46e442fc41c2b86b821562f.png',\n",
       "       'size': 'extralarge'},\n",
       "      {'#text': 'https://lastfm.freetls.fastly.net/i/u/300x300/2a96cbd8b46e442fc41c2b86b821562f.png',\n",
       "       'size': 'mega'},\n",
       "      {'#text': 'https://lastfm.freetls.fastly.net/i/u/300x300/2a96cbd8b46e442fc41c2b86b821562f.png',\n",
       "       'size': ''}]}]},\n",
       "  'tags': {'tag': [{'name': 'mathcore',\n",
       "     'url': 'https://www.last.fm/tag/mathcore'},\n",
       "    {'name': 'experimental', 'url': 'https://www.last.fm/tag/experimental'},\n",
       "    {'name': 'chaotic hardcore',\n",
       "     'url': 'https://www.last.fm/tag/chaotic+hardcore'},\n",
       "    {'name': 'hardcore', 'url': 'https://www.last.fm/tag/hardcore'},\n",
       "    {'name': 'metalcore', 'url': 'https://www.last.fm/tag/metalcore'}]},\n",
       "  'bio': {'links': {'link': {'#text': '',\n",
       "     'rel': 'original',\n",
       "     'href': 'https://last.fm/music/Name/+wiki'}},\n",
       "   'published': '27 Feb 2008, 21:15',\n",
       "   'summary': 'There are various artists called Name.\\n\\n1) Name is a techy Hardcore / Mathcore band with a huge range of influences, including Jazz, Progressive Rock, Metal and so on. They released their new album Internet killed the Audio Star on Lifeforce Records in 02 / 2010. Name stands for New Approach to Martyrs Expressions. [http://www.facebook.com/nameband] [http://www.myspace.com/name] [http://www.twitter.com/name]\\n\\n2) NAME组合 is a Chinese girl group under Yue Hua Entertainment. <a href=\"https://www.last.fm/music/Name\">Read more on Last.fm</a>',\n",
       "   'content': 'There are various artists called Name.\\n\\n1) Name is a techy Hardcore / Mathcore band with a huge range of influences, including Jazz, Progressive Rock, Metal and so on. They released their new album Internet killed the Audio Star on Lifeforce Records in 02 / 2010. Name stands for New Approach to Martyrs Expressions. [http://www.facebook.com/nameband] [http://www.myspace.com/name] [http://www.twitter.com/name]\\n\\n2) NAME组合 is a Chinese girl group under Yue Hua Entertainment. The group consists of seven members: Feng Ruohang (冯若航), Jin Zihan (金子涵), Li Jiajia (李佳佳), Liu Jiaxin (刘嘉欣), Ouyang Chengxi (欧阳澄汐), Long Yunzhu (龙韵竹), and Li Siyang (李思阳). They made their debut on December 10, 2021 with the single “Say My Name”. Li Jiajia is a former member of the South Korean girl group NATURE under the stage name Gaga (가가).\\n\\n3) \"Name\" is a rock group cosisting of Michela Capurro (Eurobeat Alias: Mickey. B), Stefano Brandoni (Eurobeat Alias: Digital Planet) and two others (uncredited). Their self titled debut album, produced at Rodgers Studio (MN, Italy) consists of 14 tracks. \"My Will\" and \"Deep Forest\" are covers of J-Pop songs (by \"Hitomi\" and \"Do As Infinity\") that featured on MTV Italy for the Italian Dub of the Inuyasha Anime series. The album also features a cover of \"Eleanor Rigby,\" originally done by the Beatles.\\n\\n4) Another Name is the artist name of Jørgen Johansen, a Norwegian rapper and DJ. His first pop single \"Hand Me Down\" went straight to the a-list of Norway\\'s most popular radio station, NRK P3. \\n\\n5)  \\'NαMε\\'  - Jeremy Gotlib, NαMε* - Music For Staring At Objects- Label: 52 Records - Country: Israel -Released: 2005 - Genre:Classical, Electronic - Style:Modern, Ambient \\n\\n6) Name was a German punk band from Tübingen, early 1980s.\\n\\n7) \"Name\" or \"name\" occasionally shows up as the artist of tracks erroneously due to faulty ID3 information.\\n\\n8) Name is an experimental \"hasnamussian art(ist)\" who practices fourth way gurdjieff religious practices; from california <a href=\"https://www.last.fm/music/Name\">Read more on Last.fm</a>. User-contributed text is available under the Creative Commons By-SA License; additional terms may apply.'}}}"
      ]
     },
     "execution_count": 13,
     "metadata": {},
     "output_type": "execute_result"
    }
   ],
   "source": [
    "# Lista para almacenar los datos que luego guardaremos en un DataFrame\n",
    "artist_data = []\n",
    "\n",
    "params_info = {\n",
    "        'method': 'artist.getinfo',\n",
    "        'artist': artist['name'],\n",
    "        'api_key': API_KEY,\n",
    "        'format': 'json'\n",
    "    }\n",
    "response_info = requests.get(BASE_URL, params=params_info)\n",
    "data_info = response_info.json()\n",
    "data_info"
   ]
  },
  {
   "cell_type": "code",
   "execution_count": 14,
   "id": "f98a79a4",
   "metadata": {},
   "outputs": [
    {
     "data": {
      "text/plain": [
       "{'Artist': 'Madonna',\n",
       " 'Biography': 'There are various artists called Name.\\n\\n1) Name is a techy Hardcore / Mathcore band with a huge range of influences, including Jazz, Progressive Rock, Metal and so on. They released their new album Internet killed the Audio Star on Lifeforce Records in 02 / 2010. Name stands for New Approach to Martyrs Expressions. [http://www.facebook.com/nameband] [http://www.myspace.com/name] [http://www.twitter.com/name]\\n\\n2) NAME组合 is a Chinese girl group under Yue Hua Entertainment. <a href=\"https://www.last.fm/music/Name\">Read more on Last.fm</a>',\n",
       " 'Listeners': '9428',\n",
       " 'Playcount': '85164'}"
      ]
     },
     "execution_count": 14,
     "metadata": {},
     "output_type": "execute_result"
    }
   ],
   "source": [
    "## Vamos a crear un objeto artista \n",
    "\n",
    "artista = {\n",
    "    'Artist': \"Madonna\",\n",
    "    'Biography': data_info['artist'].get('bio', {}).get('summary'),\n",
    "    'Listeners': data_info['artist'].get('stats', {}).get('listeners', \"Sin datos\"),\n",
    "    'Playcount': data_info['artist'].get('stats', {}).get('playcount', \"Sin datos\")\n",
    "}\n",
    "artista"
   ]
  },
  {
   "cell_type": "code",
   "execution_count": null,
   "id": "1478bb1b",
   "metadata": {},
   "outputs": [],
   "source": [
    "## Para obtener los artistas similares de un artisa\n",
    "params_similar = {\n",
    "        'method': 'artist.getsimilar',\n",
    "        'artist': \"Madonna\",\n",
    "        'api_key': API_KEY,\n",
    "        'format': 'json'\n",
    "    }\n",
    "\n",
    "response_similar = requests.get(BASE_URL, params=params_similar)\n",
    "data_similar = response_similar.json()\n",
    "data_similar['similarartists']['artist']"
   ]
  }
 ],
 "metadata": {
  "kernelspec": {
   "display_name": "base",
   "language": "python",
   "name": "python3"
  },
  "language_info": {
   "codemirror_mode": {
    "name": "ipython",
    "version": 3
   },
   "file_extension": ".py",
   "mimetype": "text/x-python",
   "name": "python",
   "nbconvert_exporter": "python",
   "pygments_lexer": "ipython3",
   "version": "3.12.7"
  }
 },
 "nbformat": 4,
 "nbformat_minor": 5
}
